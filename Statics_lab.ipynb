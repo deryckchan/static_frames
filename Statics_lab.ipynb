{
 "cells": [
  {
   "cell_type": "markdown",
   "metadata": {},
   "source": [
    "## Statics lab Python Jupyter notebook\n",
    "\n",
    "This notebook is for the \"static equilibrium of plane frameworks\" lab, CUED IA.\n",
    "\n",
    "The sections below will perform a few tasks that help you plot the graphs and perform the calculations required by the lab, at the same time demonstrating the versatility of Python libraries.\n",
    "\n",
    "The steps include:\n",
    "* Import all necessary packages;\n",
    "* Create an empty, manipulable data table to enter experimental data into;\n",
    "* Save data to CSV (comma separated values) file, and retrieve data from CSV;\n",
    "* Plot graphs to compare axial forces in various bars of the truss;\n",
    "* Perform linear regression on experimental data\n",
    "\n",
    "As with all Jupyter notebooks, you can execute each section by clicking on the code in a section then pressing Ctrl+Enter."
   ]
  },
  {
   "cell_type": "markdown",
   "metadata": {},
   "source": [
    "### Import packages\n",
    "This section imports the necessary packages in this script. The first four should be standard in most installations of Jupyter / Anaconda:\n",
    "* `numpy`: for calculations\n",
    "* `matplotlib.pyplot`: for plotting\n",
    "* `ipywidgets`: interaction with plots\n",
    "* `pandas`: manipulation of tabular data\n",
    "\n",
    "The first line, `%matplotlib inline`, commands Jupyter to put all graphs from `matplotlib` on the Jupyter notebook itself rather than in separate windows. This is explained in further detail in [the IA Python session on graph plotting](https://notebooks.azure.com/garth-wells/projects/CUED-IA-Computing-Michaelmas/html/08%20Plotting.ipynb)."
   ]
  },
  {
   "cell_type": "code",
   "execution_count": 1,
   "metadata": {},
   "outputs": [],
   "source": [
    "%matplotlib inline\n",
    "import numpy as np\n",
    "import matplotlib.pyplot as plt\n",
    "from ipywidgets import *\n",
    "import pandas as pd\n",
    "    "
   ]
  },
  {
   "cell_type": "markdown",
   "metadata": {},
   "source": [
    "The last package required by this script, `ipysheet`, allows interaction with tabular data.\n",
    "\n",
    "It is less commonly used, so it may not come pre-installed with your configuration of Jupyter / Anaconda. Installation instructions for ipysheet can be found [on this GitHub repo](https://github.com/QuantStack/ipysheet).\n",
    "\n",
    "If you cannot install `ipysheet`, you can edit the data in `truss1.txt` in a text editor, then skip to the section on \"Retrieving CSV data\" below."
   ]
  },
  {
   "cell_type": "code",
   "execution_count": 2,
   "metadata": {},
   "outputs": [],
   "source": [
    "import ipysheet"
   ]
  },
  {
   "cell_type": "markdown",
   "metadata": {},
   "source": [
    "### Create manipulable data tables\n",
    "\n",
    "`pandas.DataFrame` is the most commonly used datatype in Python to handle tabular data. This section creates an empty table with column captions and row captions. The `numpy` functions `zeros` is used as a shortcut to generate a two-dimensional array of integer zeros.\n",
    "\n",
    "You can adjust the values of `bar_count` and `stage_count` to suit your input data, or even change the code for `row_names` and `col_names` to use different column and row headings."
   ]
  },
  {
   "cell_type": "code",
   "execution_count": 3,
   "metadata": {},
   "outputs": [
    {
     "data": {
      "text/html": [
       "<div>\n",
       "<style scoped>\n",
       "    .dataframe tbody tr th:only-of-type {\n",
       "        vertical-align: middle;\n",
       "    }\n",
       "\n",
       "    .dataframe tbody tr th {\n",
       "        vertical-align: top;\n",
       "    }\n",
       "\n",
       "    .dataframe thead th {\n",
       "        text-align: right;\n",
       "    }\n",
       "</style>\n",
       "<table border=\"1\" class=\"dataframe\">\n",
       "  <thead>\n",
       "    <tr style=\"text-align: right;\">\n",
       "      <th></th>\n",
       "      <th>Bar 1</th>\n",
       "      <th>Bar 2</th>\n",
       "      <th>Bar 3</th>\n",
       "      <th>Bar 4</th>\n",
       "      <th>Bar 5</th>\n",
       "      <th>Bar 6</th>\n",
       "      <th>Bar 7</th>\n",
       "      <th>Bar 8</th>\n",
       "      <th>Bar 9</th>\n",
       "      <th>Bar 10</th>\n",
       "      <th>Bar 11</th>\n",
       "      <th>Bar 12</th>\n",
       "    </tr>\n",
       "  </thead>\n",
       "  <tbody>\n",
       "    <tr>\n",
       "      <td>Initial</td>\n",
       "      <td>0</td>\n",
       "      <td>0</td>\n",
       "      <td>0</td>\n",
       "      <td>0</td>\n",
       "      <td>0</td>\n",
       "      <td>0</td>\n",
       "      <td>0</td>\n",
       "      <td>0</td>\n",
       "      <td>0</td>\n",
       "      <td>0</td>\n",
       "      <td>0</td>\n",
       "      <td>0</td>\n",
       "    </tr>\n",
       "    <tr>\n",
       "      <td>Stage 1</td>\n",
       "      <td>0</td>\n",
       "      <td>0</td>\n",
       "      <td>0</td>\n",
       "      <td>0</td>\n",
       "      <td>0</td>\n",
       "      <td>0</td>\n",
       "      <td>0</td>\n",
       "      <td>0</td>\n",
       "      <td>0</td>\n",
       "      <td>0</td>\n",
       "      <td>0</td>\n",
       "      <td>0</td>\n",
       "    </tr>\n",
       "    <tr>\n",
       "      <td>Stage 2</td>\n",
       "      <td>0</td>\n",
       "      <td>0</td>\n",
       "      <td>0</td>\n",
       "      <td>0</td>\n",
       "      <td>0</td>\n",
       "      <td>0</td>\n",
       "      <td>0</td>\n",
       "      <td>0</td>\n",
       "      <td>0</td>\n",
       "      <td>0</td>\n",
       "      <td>0</td>\n",
       "      <td>0</td>\n",
       "    </tr>\n",
       "    <tr>\n",
       "      <td>Stage 3</td>\n",
       "      <td>0</td>\n",
       "      <td>0</td>\n",
       "      <td>0</td>\n",
       "      <td>0</td>\n",
       "      <td>0</td>\n",
       "      <td>0</td>\n",
       "      <td>0</td>\n",
       "      <td>0</td>\n",
       "      <td>0</td>\n",
       "      <td>0</td>\n",
       "      <td>0</td>\n",
       "      <td>0</td>\n",
       "    </tr>\n",
       "    <tr>\n",
       "      <td>Stage 4</td>\n",
       "      <td>0</td>\n",
       "      <td>0</td>\n",
       "      <td>0</td>\n",
       "      <td>0</td>\n",
       "      <td>0</td>\n",
       "      <td>0</td>\n",
       "      <td>0</td>\n",
       "      <td>0</td>\n",
       "      <td>0</td>\n",
       "      <td>0</td>\n",
       "      <td>0</td>\n",
       "      <td>0</td>\n",
       "    </tr>\n",
       "    <tr>\n",
       "      <td>Stage 5</td>\n",
       "      <td>0</td>\n",
       "      <td>0</td>\n",
       "      <td>0</td>\n",
       "      <td>0</td>\n",
       "      <td>0</td>\n",
       "      <td>0</td>\n",
       "      <td>0</td>\n",
       "      <td>0</td>\n",
       "      <td>0</td>\n",
       "      <td>0</td>\n",
       "      <td>0</td>\n",
       "      <td>0</td>\n",
       "    </tr>\n",
       "    <tr>\n",
       "      <td>Stage 6</td>\n",
       "      <td>0</td>\n",
       "      <td>0</td>\n",
       "      <td>0</td>\n",
       "      <td>0</td>\n",
       "      <td>0</td>\n",
       "      <td>0</td>\n",
       "      <td>0</td>\n",
       "      <td>0</td>\n",
       "      <td>0</td>\n",
       "      <td>0</td>\n",
       "      <td>0</td>\n",
       "      <td>0</td>\n",
       "    </tr>\n",
       "  </tbody>\n",
       "</table>\n",
       "</div>"
      ],
      "text/plain": [
       "         Bar 1  Bar 2  Bar 3  Bar 4  Bar 5  Bar 6  Bar 7  Bar 8  Bar 9  \\\n",
       "Initial      0      0      0      0      0      0      0      0      0   \n",
       "Stage 1      0      0      0      0      0      0      0      0      0   \n",
       "Stage 2      0      0      0      0      0      0      0      0      0   \n",
       "Stage 3      0      0      0      0      0      0      0      0      0   \n",
       "Stage 4      0      0      0      0      0      0      0      0      0   \n",
       "Stage 5      0      0      0      0      0      0      0      0      0   \n",
       "Stage 6      0      0      0      0      0      0      0      0      0   \n",
       "\n",
       "         Bar 10  Bar 11  Bar 12  \n",
       "Initial       0       0       0  \n",
       "Stage 1       0       0       0  \n",
       "Stage 2       0       0       0  \n",
       "Stage 3       0       0       0  \n",
       "Stage 4       0       0       0  \n",
       "Stage 5       0       0       0  \n",
       "Stage 6       0       0       0  "
      ]
     },
     "execution_count": 3,
     "metadata": {},
     "output_type": "execute_result"
    }
   ],
   "source": [
    "bar_count = 12\n",
    "stage_count = 6 # Excludes initial stage\n",
    "blank_boxes = np.zeros((stage_count+1, bar_count), dtype=int)\n",
    "\n",
    "row_names = ['Initial'] + [(\"Stage %d\" % ii) for ii in range(1, stage_count+1)]\n",
    "col_names = [(\"Bar %d\" % ii) for ii in range(1, bar_count+1)]\n",
    "\n",
    "df1 = pd.DataFrame(blank_boxes, index=pd.Index(row_names), columns=pd.Index(col_names))\n",
    "df1"
   ]
  },
  {
   "cell_type": "markdown",
   "metadata": {},
   "source": [
    "### Spreadsheet interface with ipysheet\n",
    "\n",
    "The contents of a `DataFrame` can only be manipulated in the code. To provide a spreadsheet-like graphical user interface, `ipysheet` is used, with the `from_dataframe` function importing data from the `DataFrame` directly.\n",
    "\n",
    "If the library `ipysheet` is imported successfully, you can click on any cell in the spreadsheet below to replace any of the values below with your own experimental data. When you press enter or tab after typing a value, the values stored in variable `sheet1` are updated too."
   ]
  },
  {
   "cell_type": "code",
   "execution_count": 4,
   "metadata": {},
   "outputs": [
    {
     "data": {
      "application/vnd.jupyter.widget-view+json": {
       "model_id": "d3183e8606b149e3b52147db86356a71",
       "version_major": 2,
       "version_minor": 0
      },
      "text/plain": [
       "Sheet(cells=(Cell(choice=[], column_end=0, column_start=0, numeric_format='0[.]0', row_end=6, row_start=0, squ…"
      ]
     },
     "metadata": {},
     "output_type": "display_data"
    }
   ],
   "source": [
    "sheet1 = ipysheet.from_dataframe(df1)\n",
    "sheet1"
   ]
  },
  {
   "cell_type": "markdown",
   "metadata": {},
   "source": [
    "Next, the content of `sheet1` is copied back to the `df1`.\n",
    "\n",
    "Note for students with advanced programming experience: This step is needed because `from_dataframe` and `to_dataframe` each makes a *copy* of the data (i.e. pass by value), rather than creating a *binding* between the `ipysheet` and the `DataFrame` (i.e. pass by reference). Therefore, when you change a number using the graphical spreadsheet interface above, the values in `df1` don't automatically follow `sheet1`."
   ]
  },
  {
   "cell_type": "code",
   "execution_count": 5,
   "metadata": {},
   "outputs": [
    {
     "data": {
      "text/html": [
       "<div>\n",
       "<style scoped>\n",
       "    .dataframe tbody tr th:only-of-type {\n",
       "        vertical-align: middle;\n",
       "    }\n",
       "\n",
       "    .dataframe tbody tr th {\n",
       "        vertical-align: top;\n",
       "    }\n",
       "\n",
       "    .dataframe thead th {\n",
       "        text-align: right;\n",
       "    }\n",
       "</style>\n",
       "<table border=\"1\" class=\"dataframe\">\n",
       "  <thead>\n",
       "    <tr style=\"text-align: right;\">\n",
       "      <th></th>\n",
       "      <th>Bar 1</th>\n",
       "      <th>Bar 2</th>\n",
       "      <th>Bar 3</th>\n",
       "      <th>Bar 4</th>\n",
       "      <th>Bar 5</th>\n",
       "      <th>Bar 6</th>\n",
       "      <th>Bar 7</th>\n",
       "      <th>Bar 8</th>\n",
       "      <th>Bar 9</th>\n",
       "      <th>Bar 10</th>\n",
       "      <th>Bar 11</th>\n",
       "      <th>Bar 12</th>\n",
       "    </tr>\n",
       "  </thead>\n",
       "  <tbody>\n",
       "    <tr>\n",
       "      <td>Initial</td>\n",
       "      <td>-1</td>\n",
       "      <td>2</td>\n",
       "      <td>3</td>\n",
       "      <td>0</td>\n",
       "      <td>0</td>\n",
       "      <td>0</td>\n",
       "      <td>0</td>\n",
       "      <td>0</td>\n",
       "      <td>0</td>\n",
       "      <td>0</td>\n",
       "      <td>0</td>\n",
       "      <td>0</td>\n",
       "    </tr>\n",
       "    <tr>\n",
       "      <td>Stage 1</td>\n",
       "      <td>0</td>\n",
       "      <td>0</td>\n",
       "      <td>0</td>\n",
       "      <td>0</td>\n",
       "      <td>0</td>\n",
       "      <td>0</td>\n",
       "      <td>0</td>\n",
       "      <td>0</td>\n",
       "      <td>0</td>\n",
       "      <td>0</td>\n",
       "      <td>0</td>\n",
       "      <td>0</td>\n",
       "    </tr>\n",
       "    <tr>\n",
       "      <td>Stage 2</td>\n",
       "      <td>0</td>\n",
       "      <td>0</td>\n",
       "      <td>0</td>\n",
       "      <td>0</td>\n",
       "      <td>0</td>\n",
       "      <td>0</td>\n",
       "      <td>0</td>\n",
       "      <td>0</td>\n",
       "      <td>0</td>\n",
       "      <td>0</td>\n",
       "      <td>0</td>\n",
       "      <td>0</td>\n",
       "    </tr>\n",
       "    <tr>\n",
       "      <td>Stage 3</td>\n",
       "      <td>0</td>\n",
       "      <td>0</td>\n",
       "      <td>0</td>\n",
       "      <td>0</td>\n",
       "      <td>0</td>\n",
       "      <td>0</td>\n",
       "      <td>0</td>\n",
       "      <td>0</td>\n",
       "      <td>0</td>\n",
       "      <td>0</td>\n",
       "      <td>0</td>\n",
       "      <td>0</td>\n",
       "    </tr>\n",
       "    <tr>\n",
       "      <td>Stage 4</td>\n",
       "      <td>0</td>\n",
       "      <td>0</td>\n",
       "      <td>0</td>\n",
       "      <td>0</td>\n",
       "      <td>0</td>\n",
       "      <td>0</td>\n",
       "      <td>0</td>\n",
       "      <td>0</td>\n",
       "      <td>0</td>\n",
       "      <td>0</td>\n",
       "      <td>0</td>\n",
       "      <td>0</td>\n",
       "    </tr>\n",
       "    <tr>\n",
       "      <td>Stage 5</td>\n",
       "      <td>0</td>\n",
       "      <td>0</td>\n",
       "      <td>0</td>\n",
       "      <td>0</td>\n",
       "      <td>0</td>\n",
       "      <td>0</td>\n",
       "      <td>0</td>\n",
       "      <td>0</td>\n",
       "      <td>0</td>\n",
       "      <td>0</td>\n",
       "      <td>0</td>\n",
       "      <td>0</td>\n",
       "    </tr>\n",
       "    <tr>\n",
       "      <td>Stage 6</td>\n",
       "      <td>0</td>\n",
       "      <td>0</td>\n",
       "      <td>0</td>\n",
       "      <td>0</td>\n",
       "      <td>0</td>\n",
       "      <td>0</td>\n",
       "      <td>0</td>\n",
       "      <td>0</td>\n",
       "      <td>0</td>\n",
       "      <td>0</td>\n",
       "      <td>0</td>\n",
       "      <td>0</td>\n",
       "    </tr>\n",
       "  </tbody>\n",
       "</table>\n",
       "</div>"
      ],
      "text/plain": [
       "         Bar 1  Bar 2  Bar 3  Bar 4  Bar 5  Bar 6  Bar 7  Bar 8  Bar 9  \\\n",
       "Initial     -1      2      3      0      0      0      0      0      0   \n",
       "Stage 1      0      0      0      0      0      0      0      0      0   \n",
       "Stage 2      0      0      0      0      0      0      0      0      0   \n",
       "Stage 3      0      0      0      0      0      0      0      0      0   \n",
       "Stage 4      0      0      0      0      0      0      0      0      0   \n",
       "Stage 5      0      0      0      0      0      0      0      0      0   \n",
       "Stage 6      0      0      0      0      0      0      0      0      0   \n",
       "\n",
       "         Bar 10  Bar 11  Bar 12  \n",
       "Initial       0       0       0  \n",
       "Stage 1       0       0       0  \n",
       "Stage 2       0       0       0  \n",
       "Stage 3       0       0       0  \n",
       "Stage 4       0       0       0  \n",
       "Stage 5       0       0       0  \n",
       "Stage 6       0       0       0  "
      ]
     },
     "execution_count": 5,
     "metadata": {},
     "output_type": "execute_result"
    }
   ],
   "source": [
    "df1 = ipysheet.to_dataframe(sheet1)\n",
    "df1"
   ]
  },
  {
   "cell_type": "markdown",
   "metadata": {},
   "source": [
    "We can then use a function provided by `pandas` to save the contents of `df1` to a text file."
   ]
  },
  {
   "cell_type": "code",
   "execution_count": 6,
   "metadata": {},
   "outputs": [],
   "source": [
    "df1.to_csv('truss1.txt')"
   ]
  },
  {
   "cell_type": "markdown",
   "metadata": {},
   "source": [
    "### Retrieving CSV data\n",
    "\n",
    "This section reads CSV (comma-separated values) data from the text file generated above (or a file in which you filled data using a text editor), and puts the data back into a `DataFrame`.\n",
    "\n",
    "The `index_col` parameter tells `read_csv` that the left-most column of the CSV data should be treated as row headings, rather than a separate column of data."
   ]
  },
  {
   "cell_type": "code",
   "execution_count": 7,
   "metadata": {},
   "outputs": [
    {
     "data": {
      "text/html": [
       "<div>\n",
       "<style scoped>\n",
       "    .dataframe tbody tr th:only-of-type {\n",
       "        vertical-align: middle;\n",
       "    }\n",
       "\n",
       "    .dataframe tbody tr th {\n",
       "        vertical-align: top;\n",
       "    }\n",
       "\n",
       "    .dataframe thead th {\n",
       "        text-align: right;\n",
       "    }\n",
       "</style>\n",
       "<table border=\"1\" class=\"dataframe\">\n",
       "  <thead>\n",
       "    <tr style=\"text-align: right;\">\n",
       "      <th></th>\n",
       "      <th>Bar 1</th>\n",
       "      <th>Bar 2</th>\n",
       "      <th>Bar 3</th>\n",
       "      <th>Bar 4</th>\n",
       "      <th>Bar 5</th>\n",
       "      <th>Bar 6</th>\n",
       "      <th>Bar 7</th>\n",
       "      <th>Bar 8</th>\n",
       "      <th>Bar 9</th>\n",
       "      <th>Bar 10</th>\n",
       "      <th>Bar 11</th>\n",
       "      <th>Bar 12</th>\n",
       "    </tr>\n",
       "  </thead>\n",
       "  <tbody>\n",
       "    <tr>\n",
       "      <td>Initial</td>\n",
       "      <td>0</td>\n",
       "      <td>-4</td>\n",
       "      <td>2</td>\n",
       "      <td>4</td>\n",
       "      <td>0</td>\n",
       "      <td>-2</td>\n",
       "      <td>1</td>\n",
       "      <td>-7</td>\n",
       "      <td>1</td>\n",
       "      <td>1</td>\n",
       "      <td>0</td>\n",
       "      <td>-3</td>\n",
       "    </tr>\n",
       "    <tr>\n",
       "      <td>Stage 1</td>\n",
       "      <td>60</td>\n",
       "      <td>-30</td>\n",
       "      <td>-63</td>\n",
       "      <td>-19</td>\n",
       "      <td>48</td>\n",
       "      <td>-50</td>\n",
       "      <td>44</td>\n",
       "      <td>37</td>\n",
       "      <td>-52</td>\n",
       "      <td>47</td>\n",
       "      <td>47</td>\n",
       "      <td>36</td>\n",
       "    </tr>\n",
       "    <tr>\n",
       "      <td>Stage 2</td>\n",
       "      <td>124</td>\n",
       "      <td>-44</td>\n",
       "      <td>-132</td>\n",
       "      <td>-42</td>\n",
       "      <td>91</td>\n",
       "      <td>-92</td>\n",
       "      <td>90</td>\n",
       "      <td>81</td>\n",
       "      <td>-92</td>\n",
       "      <td>92</td>\n",
       "      <td>92</td>\n",
       "      <td>85</td>\n",
       "    </tr>\n",
       "    <tr>\n",
       "      <td>Stage 3</td>\n",
       "      <td>185</td>\n",
       "      <td>-69</td>\n",
       "      <td>-201</td>\n",
       "      <td>-69</td>\n",
       "      <td>140</td>\n",
       "      <td>-139</td>\n",
       "      <td>136</td>\n",
       "      <td>129</td>\n",
       "      <td>-140</td>\n",
       "      <td>156</td>\n",
       "      <td>138</td>\n",
       "      <td>118</td>\n",
       "    </tr>\n",
       "    <tr>\n",
       "      <td>Stage 4</td>\n",
       "      <td>239</td>\n",
       "      <td>-89</td>\n",
       "      <td>-267</td>\n",
       "      <td>-88</td>\n",
       "      <td>185</td>\n",
       "      <td>-182</td>\n",
       "      <td>185</td>\n",
       "      <td>173</td>\n",
       "      <td>-184</td>\n",
       "      <td>188</td>\n",
       "      <td>184</td>\n",
       "      <td>162</td>\n",
       "    </tr>\n",
       "    <tr>\n",
       "      <td>Stage 5</td>\n",
       "      <td>238</td>\n",
       "      <td>-88</td>\n",
       "      <td>-270</td>\n",
       "      <td>-90</td>\n",
       "      <td>186</td>\n",
       "      <td>-179</td>\n",
       "      <td>181</td>\n",
       "      <td>175</td>\n",
       "      <td>-184</td>\n",
       "      <td>190</td>\n",
       "      <td>180</td>\n",
       "      <td>155</td>\n",
       "    </tr>\n",
       "    <tr>\n",
       "      <td>Stage 6</td>\n",
       "      <td>299</td>\n",
       "      <td>-111</td>\n",
       "      <td>-339</td>\n",
       "      <td>-115</td>\n",
       "      <td>229</td>\n",
       "      <td>-226</td>\n",
       "      <td>226</td>\n",
       "      <td>220</td>\n",
       "      <td>-231</td>\n",
       "      <td>234</td>\n",
       "      <td>226</td>\n",
       "      <td>197</td>\n",
       "    </tr>\n",
       "  </tbody>\n",
       "</table>\n",
       "</div>"
      ],
      "text/plain": [
       "         Bar 1  Bar 2  Bar 3  Bar 4  Bar 5  Bar 6  Bar 7  Bar 8  Bar 9  \\\n",
       "Initial      0     -4      2      4      0     -2      1     -7      1   \n",
       "Stage 1     60    -30    -63    -19     48    -50     44     37    -52   \n",
       "Stage 2    124    -44   -132    -42     91    -92     90     81    -92   \n",
       "Stage 3    185    -69   -201    -69    140   -139    136    129   -140   \n",
       "Stage 4    239    -89   -267    -88    185   -182    185    173   -184   \n",
       "Stage 5    238    -88   -270    -90    186   -179    181    175   -184   \n",
       "Stage 6    299   -111   -339   -115    229   -226    226    220   -231   \n",
       "\n",
       "         Bar 10  Bar 11  Bar 12  \n",
       "Initial       1       0      -3  \n",
       "Stage 1      47      47      36  \n",
       "Stage 2      92      92      85  \n",
       "Stage 3     156     138     118  \n",
       "Stage 4     188     184     162  \n",
       "Stage 5     190     180     155  \n",
       "Stage 6     234     226     197  "
      ]
     },
     "execution_count": 7,
     "metadata": {},
     "output_type": "execute_result"
    }
   ],
   "source": [
    "csvfilename = 'truss1-CFRP-2019-10-18.txt' # Edit the file name here\n",
    "\n",
    "df1 = pd.read_csv(csvfilename, index_col=0)\n",
    "df1"
   ]
  },
  {
   "cell_type": "markdown",
   "metadata": {},
   "source": [
    "### Plot graphs\n",
    "\n",
    "The `matplotlib.pyplot` object is used to plot graphs of strain gauge readings of two bars against each other. \n",
    "\n",
    "As shown in the syntax `df1[reference_bar]`, the square bracket notation conveniently gives the data in a column of a `DataFrame`. \n",
    "\n",
    "List comprehension is then used to plot readings from multiple bars against readings from Bar 1."
   ]
  },
  {
   "cell_type": "code",
   "execution_count": 8,
   "metadata": {},
   "outputs": [
    {
     "data": {
      "image/png": "[encoded data removed]",
      "text/plain": [
       "<Figure size 432x288 with 1 Axes>"
      ]
     },
     "metadata": {
      "needs_background": "light"
     },
     "output_type": "display_data"
    }
   ],
   "source": [
    "def plot_raw(reference_bar = 'Bar 1', plot_bars = ['Bar 2', 'Bar 3']):\n",
    "    [plt.plot(df1[reference_bar], df1[plot_onebar], label = plot_onebar) for plot_onebar in plot_bars]\n",
    "    plt.xlabel(reference_bar + ' (digits)')\n",
    "    plt.ylabel('Other bars (digits)')\n",
    "    plt.legend()\n",
    "    plt.show()\n",
    "    \n",
    "plot_raw()"
   ]
  },
  {
   "cell_type": "markdown",
   "metadata": {},
   "source": [
    "The graph above can be made interactive using `ipywidgets.interact`. The types of interactive elements are specified explicitly here because we want to rename the label (`description`), and `SelectMultiple` does not have a shorthand. The column headings of `df1` are used to automatically (using the convenient feature `.columns`) provide the options of what to plot.\n",
    "\n",
    "You can use Ctrl+Click or Shift+Click to select multiple bars from the \"Bars to plot\" selection menu below."
   ]
  },
  {
   "cell_type": "code",
   "execution_count": 9,
   "metadata": {},
   "outputs": [
    {
     "data": {
      "application/vnd.jupyter.widget-view+json": {
       "model_id": "f86e1542c9664297a485250debbc5ec1",
       "version_major": 2,
       "version_minor": 0
      },
      "text/plain": [
       "interactive(children=(Dropdown(description='x-axis', options=('Bar 1', 'Bar 2', 'Bar 3', 'Bar 4', 'Bar 5', 'Ba…"
      ]
     },
     "metadata": {},
     "output_type": "display_data"
    }
   ],
   "source": [
    "col_names = list(df1.columns)\n",
    "\n",
    "interact(plot_raw, reference_bar = Dropdown(options = col_names, description = 'x-axis'),\n",
    "          plot_bars = SelectMultiple(options = col_names, value = col_names[1:3], description = 'Bars to plot'));"
   ]
  },
  {
   "cell_type": "markdown",
   "metadata": {},
   "source": [
    "In this experiment, what matters is not the absolute reading from the strain gauges, but the changes in readings from the initial values. Therefore, the next section generates the plots after subtracting the initial values.\n",
    "\n",
    "As shown by the syntax `df1[reference_bar][0]`, the first square bracket retrieves an object containing a column of data from the `DataFrame` using the column heading name; the second square bracket retrieves a single value from the column using an integer position index."
   ]
  },
  {
   "cell_type": "code",
   "execution_count": 10,
   "metadata": {},
   "outputs": [
    {
     "data": {
      "application/vnd.jupyter.widget-view+json": {
       "model_id": "63fac81fbcf347f5a34ec07da247ff31",
       "version_major": 2,
       "version_minor": 0
      },
      "text/plain": [
       "interactive(children=(Dropdown(description='x-axis', options=('Bar 1', 'Bar 2', 'Bar 3', 'Bar 4', 'Bar 5', 'Ba…"
      ]
     },
     "metadata": {},
     "output_type": "display_data"
    }
   ],
   "source": [
    "def plot_zeroed(reference_bar = 'Bar 1', plot_bars = ['Bar 2', 'Bar 3']):\n",
    "    [plt.plot(df1[reference_bar] - df1[reference_bar][0], \n",
    "              df1[plot_onebar] - df1[plot_onebar][0], \n",
    "             label = plot_onebar\n",
    "             ) for plot_onebar in plot_bars]\n",
    "    plt.xlabel(reference_bar + ' (digits)')\n",
    "    plt.ylabel('Other bars (digits)')\n",
    "    plt.legend()\n",
    "    plt.show()\n",
    "\n",
    "interact(plot_zeroed, reference_bar = Dropdown(options = col_names, description = 'x-axis'),\n",
    "          plot_bars = SelectMultiple(options = col_names, value = col_names[1:3], description = 'Bars to plot'));"
   ]
  },
  {
   "cell_type": "markdown",
   "metadata": {},
   "source": [
    "In the experiment, you have obtained (or were given) a calibration factor that relates strain gauge meter readings to bar forces. We can also build this into the plot. The script below provides an additional interactive input box for you to type in the calibration factor in digits/kN."
   ]
  },
  {
   "cell_type": "code",
   "execution_count": 11,
   "metadata": {},
   "outputs": [
    {
     "data": {
      "application/vnd.jupyter.widget-view+json": {
       "model_id": "bb5eda8aeecb463a9521a0e3b605e8d5",
       "version_major": 2,
       "version_minor": 0
      },
      "text/plain": [
       "interactive(children=(Dropdown(description='x-axis', options=('Bar 1', 'Bar 2', 'Bar 3', 'Bar 4', 'Bar 5', 'Ba…"
      ]
     },
     "metadata": {},
     "output_type": "display_data"
    }
   ],
   "source": [
    "def plot_calib(reference_bar = 'Bar 1', plot_bars = ['Bar 2', 'Bar 3'], calibration_factor = 83): \n",
    "    # Calibration factor is in digits/kN\n",
    "    cf = calibration_factor\n",
    "    [plt.plot((df1[reference_bar] - df1[reference_bar][0])/cf,\n",
    "              (df1[plot_onebar] - df1[plot_onebar][0])/cf,\n",
    "              label = plot_onebar\n",
    "             ) for plot_onebar in plot_bars]\n",
    "    plt.xlabel(reference_bar + ' (kN)')\n",
    "    plt.ylabel('Other bars (kN)')\n",
    "    plt.legend()\n",
    "    plt.show()\n",
    "    \n",
    "interact(plot_calib, reference_bar = Dropdown(options = col_names, description = 'x-axis'),\n",
    "          plot_bars = SelectMultiple(options = col_names, value = col_names[1:3], description = 'Bars to plot'),\n",
    "        calibration_factor = IntText(83, description = 'Calibration'));"
   ]
  },
  {
   "cell_type": "markdown",
   "metadata": {},
   "source": [
    "### Linear regression\n",
    "The final part of this lab exercise is to verify the theory of static equilibrium with the experimental data. This is done by comparing the changes in strain gauge readings from different bars on the structure. Since the same calibration factor is applied to all bars, the ratio of strain gauge readings is the same as the ratio of bar forces.\n",
    "\n",
    "The ratio of reading changes is extracted using linear regression. This functionality is provided by `numpy.polyfit`. As shown in the code below, the first input parameter to `polyfit` is for values of $x$, the second input parameter is for values of $y$, and the third parameter is an integer for the order of equation. A linear equation has order 1 because the highest power of $x$ in the equation $y = m x + c$ is 1."
   ]
  },
  {
   "cell_type": "code",
   "execution_count": 12,
   "metadata": {},
   "outputs": [
    {
     "data": {
      "text/plain": [
       "array([-1.14409237,  5.71225163])"
      ]
     },
     "execution_count": 12,
     "metadata": {},
     "output_type": "execute_result"
    }
   ],
   "source": [
    "reference_bar = 'Bar 1'\n",
    "plot_onebar = 'Bar 3'\n",
    "\n",
    "model = np.polyfit(df1[reference_bar], df1[plot_onebar], 1)\n",
    "model"
   ]
  },
  {
   "cell_type": "markdown",
   "metadata": {},
   "source": [
    "`polyfit` returns a `numpy.array` with the head of the array being the highest-order coefficient. In other words, `model[0]` gives the slope $m$ of the best-fit straight line.\n",
    "\n",
    "This can be built into another adaptation of the graph-plotting script from above. The experimental data points are plotted as a scatter graph, the best-fit line is plotted as a solid line, and the best-fit equation is given in the legend.\n",
    "\n",
    "You can choose which bars to compare in this graph using the interactive drop-down boxes."
   ]
  },
  {
   "cell_type": "code",
   "execution_count": 13,
   "metadata": {},
   "outputs": [
    {
     "data": {
      "application/vnd.jupyter.widget-view+json": {
       "model_id": "f031d533b3d44648b996990fc633f52d",
       "version_major": 2,
       "version_minor": 0
      },
      "text/plain": [
       "interactive(children=(Dropdown(description='x-axis', options=('Bar 1', 'Bar 2', 'Bar 3', 'Bar 4', 'Bar 5', 'Ba…"
      ]
     },
     "metadata": {},
     "output_type": "display_data"
    }
   ],
   "source": [
    "def plot_linreg(reference_bar, plot_onebar):\n",
    "    model = np.polyfit(df1[reference_bar], df1[plot_onebar], 1)\n",
    "\n",
    "    plt.scatter(df1[reference_bar], df1[plot_onebar], label = 'Expt data')\n",
    "\n",
    "    c0 = model[1] # Intercept\n",
    "    c1 = model[0] # Slope\n",
    "    x0 = min(df1[reference_bar])\n",
    "    x1 = max(df1[reference_bar])\n",
    "    y0 = c0 + x0 * c1\n",
    "    y1 = c0 + x1 * c1\n",
    "    plt.plot([x0, x1], [y0, y1], label = (\"y = %.3f x + %.1f\" % (c1, c0)))\n",
    "    plt.xlabel(reference_bar + ' (digits)')\n",
    "    plt.ylabel(plot_onebar + ' (digits)')\n",
    "    plt.legend()\n",
    "    plt.show()\n",
    "\n",
    "interact(plot_linreg, \n",
    "         reference_bar = Dropdown(options = col_names, value = col_names[0], description = 'x-axis'),\n",
    "         plot_onebar = Dropdown(options = col_names, value = col_names[1], description = 'y-axis')\n",
    "        );"
   ]
  },
  {
   "cell_type": "markdown",
   "metadata": {},
   "source": [
    "Completing the discussion, this final section of code performs linear regression to find the ratio of strain gauge reading changes between all bars and Bar 1. The script uses list comprehension to loop through all the bars using `for .. in`, filtering out Bar 1 itself using `if .. is not`.\n",
    "\n",
    "The results of linear regression are the presented in a table, using `DataFrame` again to provide the formatting."
   ]
  },
  {
   "cell_type": "code",
   "execution_count": 14,
   "metadata": {},
   "outputs": [
    {
     "data": {
      "text/html": [
       "<div>\n",
       "<style scoped>\n",
       "    .dataframe tbody tr th:only-of-type {\n",
       "        vertical-align: middle;\n",
       "    }\n",
       "\n",
       "    .dataframe tbody tr th {\n",
       "        vertical-align: top;\n",
       "    }\n",
       "\n",
       "    .dataframe thead th {\n",
       "        text-align: right;\n",
       "    }\n",
       "</style>\n",
       "<table border=\"1\" class=\"dataframe\">\n",
       "  <thead>\n",
       "    <tr style=\"text-align: right;\">\n",
       "      <th></th>\n",
       "      <th>Ratio vs Bar 1</th>\n",
       "    </tr>\n",
       "  </thead>\n",
       "  <tbody>\n",
       "    <tr>\n",
       "      <td>Bar 2</td>\n",
       "      <td>-0.351364</td>\n",
       "    </tr>\n",
       "    <tr>\n",
       "      <td>Bar 3</td>\n",
       "      <td>-1.144092</td>\n",
       "    </tr>\n",
       "    <tr>\n",
       "      <td>Bar 4</td>\n",
       "      <td>-0.396851</td>\n",
       "    </tr>\n",
       "    <tr>\n",
       "      <td>Bar 5</td>\n",
       "      <td>0.770708</td>\n",
       "    </tr>\n",
       "    <tr>\n",
       "      <td>Bar 6</td>\n",
       "      <td>-0.745390</td>\n",
       "    </tr>\n",
       "    <tr>\n",
       "      <td>Bar 7</td>\n",
       "      <td>0.762400</td>\n",
       "    </tr>\n",
       "    <tr>\n",
       "      <td>Bar 8</td>\n",
       "      <td>0.763492</td>\n",
       "    </tr>\n",
       "    <tr>\n",
       "      <td>Bar 9</td>\n",
       "      <td>-0.767179</td>\n",
       "    </tr>\n",
       "    <tr>\n",
       "      <td>Bar 10</td>\n",
       "      <td>0.791618</td>\n",
       "    </tr>\n",
       "    <tr>\n",
       "      <td>Bar 11</td>\n",
       "      <td>0.757575</td>\n",
       "    </tr>\n",
       "    <tr>\n",
       "      <td>Bar 12</td>\n",
       "      <td>0.671163</td>\n",
       "    </tr>\n",
       "  </tbody>\n",
       "</table>\n",
       "</div>"
      ],
      "text/plain": [
       "        Ratio vs Bar 1\n",
       "Bar 2        -0.351364\n",
       "Bar 3        -1.144092\n",
       "Bar 4        -0.396851\n",
       "Bar 5         0.770708\n",
       "Bar 6        -0.745390\n",
       "Bar 7         0.762400\n",
       "Bar 8         0.763492\n",
       "Bar 9        -0.767179\n",
       "Bar 10        0.791618\n",
       "Bar 11        0.757575\n",
       "Bar 12        0.671163"
      ]
     },
     "execution_count": 14,
     "metadata": {},
     "output_type": "execute_result"
    }
   ],
   "source": [
    "reference_bar = 'Bar 1'\n",
    "models = [np.polyfit(df1[reference_bar], df1[onebar], 1) for onebar in col_names if onebar is not col_names[0]]\n",
    "\n",
    "dfc = pd.DataFrame([model[0] for model in models], index=pd.Index(col_names[1:]), columns=['Ratio vs ' + reference_bar])\n",
    "dfc"
   ]
  },
  {
   "cell_type": "markdown",
   "metadata": {},
   "source": [
    "Hopefully these ratios relative to Bar 1 will be close to the theoretical values you predicted by the principle of equilibrium (allowing for some experimental error, and for the fact that the joints are not perfectly pinned).\n",
    "\n",
    "Thanks for using this Jupyter notebook!\n",
    "\n",
    "Deryck Chan 2020"
   ]
  }
 ],
 "metadata": {
  "kernelspec": {
   "display_name": "Python 3",
   "language": "python",
   "name": "python3"
  },
  "language_info": {
   "codemirror_mode": {
    "name": "ipython",
    "version": 3
   },
   "file_extension": ".py",
   "mimetype": "text/x-python",
   "name": "python",
   "nbconvert_exporter": "python",
   "pygments_lexer": "ipython3",
   "version": "3.7.4"
  }
 },
 "nbformat": 4,
 "nbformat_minor": 2
}
